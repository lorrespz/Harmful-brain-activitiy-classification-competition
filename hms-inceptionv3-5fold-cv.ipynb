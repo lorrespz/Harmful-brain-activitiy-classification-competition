{
 "cells": [
  {
   "cell_type": "code",
   "execution_count": 1,
   "id": "e3752076",
   "metadata": {
    "_cell_guid": "b1076dfc-b9ad-4769-8c92-a6c4dae69d19",
    "_uuid": "8f2839f25d086af736a60e9eeb907d3b93b6e0e5",
    "execution": {
     "iopub.execute_input": "2024-03-13T13:20:14.934643Z",
     "iopub.status.busy": "2024-03-13T13:20:14.934276Z",
     "iopub.status.idle": "2024-03-13T13:20:28.237647Z",
     "shell.execute_reply": "2024-03-13T13:20:28.236514Z"
    },
    "papermill": {
     "duration": 13.315425,
     "end_time": "2024-03-13T13:20:28.240429",
     "exception": false,
     "start_time": "2024-03-13T13:20:14.925004",
     "status": "completed"
    },
    "tags": []
   },
   "outputs": [
    {
     "name": "stderr",
     "output_type": "stream",
     "text": [
      "2024-03-13 13:20:16.697770: E external/local_xla/xla/stream_executor/cuda/cuda_dnn.cc:9261] Unable to register cuDNN factory: Attempting to register factory for plugin cuDNN when one has already been registered\n",
      "2024-03-13 13:20:16.697871: E external/local_xla/xla/stream_executor/cuda/cuda_fft.cc:607] Unable to register cuFFT factory: Attempting to register factory for plugin cuFFT when one has already been registered\n",
      "2024-03-13 13:20:16.830400: E external/local_xla/xla/stream_executor/cuda/cuda_blas.cc:1515] Unable to register cuBLAS factory: Attempting to register factory for plugin cuBLAS when one has already been registered\n"
     ]
    },
    {
     "name": "stdout",
     "output_type": "stream",
     "text": [
      "TensorFlow version = 2.15.0\n",
      "Using 1 GPU\n"
     ]
    }
   ],
   "source": [
    "import gc\n",
    "import os\n",
    "os.environ[\"CUDA_VISIBLE_DEVICES\"]=\"0,1\"\n",
    "import tensorflow as tf\n",
    "import pandas as pd, numpy as np\n",
    "import matplotlib.pyplot as plt\n",
    "print('TensorFlow version =',tf.__version__)\n",
    "\n",
    "# USE MULTIPLE GPUS\n",
    "gpus = tf.config.list_physical_devices('GPU')\n",
    "if len(gpus)<=1: \n",
    "    strategy = tf.distribute.OneDeviceStrategy(device=\"/gpu:0\")\n",
    "    print(f'Using {len(gpus)} GPU')\n",
    "else: \n",
    "    strategy = tf.distribute.MirroredStrategy()\n",
    "    print(f'Using {len(gpus)} GPUs')\n",
    "\n",
    "VER = 3\n",
    "#Version 2 uses cosine type learning rate scheduler with 10 epochs, CV score 0.75\n",
    "#Version 1 uses step type LR scheduler with 5 epochs, CV score 0.6227"
   ]
  },
  {
   "cell_type": "markdown",
   "id": "bb267ed0",
   "metadata": {
    "papermill": {
     "duration": 0.00832,
     "end_time": "2024-03-13T13:20:28.259891",
     "exception": false,
     "start_time": "2024-03-13T13:20:28.251571",
     "status": "completed"
    },
    "tags": []
   },
   "source": [
    "In this version, we use the weights of the pretrained version 1 of the notebook - trained with step LR scheduler - (which has better CV score than the second version trained with cosine LR scheduler) to perform inference on the test data and make a submission. "
   ]
  },
  {
   "cell_type": "markdown",
   "id": "1f28a5d6",
   "metadata": {
    "papermill": {
     "duration": 0.007232,
     "end_time": "2024-03-13T13:20:28.274350",
     "exception": false,
     "start_time": "2024-03-13T13:20:28.267118",
     "status": "completed"
    },
    "tags": []
   },
   "source": [
    "# Load train data and display the spectrogram images"
   ]
  },
  {
   "cell_type": "code",
   "execution_count": 2,
   "id": "9e345495",
   "metadata": {
    "execution": {
     "iopub.execute_input": "2024-03-13T13:20:28.291819Z",
     "iopub.status.busy": "2024-03-13T13:20:28.290765Z",
     "iopub.status.idle": "2024-03-13T13:20:28.637299Z",
     "shell.execute_reply": "2024-03-13T13:20:28.636513Z"
    },
    "papermill": {
     "duration": 0.357629,
     "end_time": "2024-03-13T13:20:28.639758",
     "exception": false,
     "start_time": "2024-03-13T13:20:28.282129",
     "status": "completed"
    },
    "tags": []
   },
   "outputs": [],
   "source": [
    "df = pd.read_csv('/kaggle/input/hms-harmful-brain-activity-classification/train.csv')\n",
    "TARGETS = df.columns[-6:]\n",
    "\n",
    "train = df.groupby('eeg_id')[['spectrogram_id','spectrogram_label_offset_seconds']].agg(\n",
    "    {'spectrogram_id':'first','spectrogram_label_offset_seconds':'min'})\n",
    "train.columns = ['spec_id','min']\n",
    "\n",
    "tmp = df.groupby('eeg_id')[['spectrogram_id','spectrogram_label_offset_seconds']].agg(\n",
    "    {'spectrogram_label_offset_seconds':'max'})\n",
    "train['max'] = tmp\n",
    "\n",
    "tmp = df.groupby('eeg_id')[['patient_id']].agg('first')\n",
    "train['patient_id'] = tmp\n",
    "\n",
    "tmp = df.groupby('eeg_id')[TARGETS].agg('sum')\n",
    "for t in TARGETS:\n",
    "    train[t] = tmp[t].values\n",
    "    \n",
    "y_data = train[TARGETS].values\n",
    "y_data = y_data / y_data.sum(axis=1,keepdims=True)\n",
    "train[TARGETS] = y_data\n",
    "\n",
    "tmp = df.groupby('eeg_id')[['expert_consensus']].agg('first')\n",
    "train['target'] = tmp\n",
    "\n",
    "train = train.reset_index()"
   ]
  },
  {
   "cell_type": "code",
   "execution_count": 3,
   "id": "7835d9c7",
   "metadata": {
    "execution": {
     "iopub.execute_input": "2024-03-13T13:20:28.656073Z",
     "iopub.status.busy": "2024-03-13T13:20:28.655774Z",
     "iopub.status.idle": "2024-03-13T13:22:55.773929Z",
     "shell.execute_reply": "2024-03-13T13:22:55.772930Z"
    },
    "papermill": {
     "duration": 147.129036,
     "end_time": "2024-03-13T13:22:55.776442",
     "exception": false,
     "start_time": "2024-03-13T13:20:28.647406",
     "status": "completed"
    },
    "tags": []
   },
   "outputs": [],
   "source": [
    "spectrograms = np.load('/kaggle/input/brain-spectrograms/specs.npy',allow_pickle=True).item()\n",
    "all_eegs = np.load('/kaggle/input/brain-eeg-spectrograms/eeg_specs.npy',allow_pickle=True).item()"
   ]
  },
  {
   "cell_type": "code",
   "execution_count": 4,
   "id": "64eadc62",
   "metadata": {
    "execution": {
     "iopub.execute_input": "2024-03-13T13:22:55.793311Z",
     "iopub.status.busy": "2024-03-13T13:22:55.793010Z",
     "iopub.status.idle": "2024-03-13T13:22:57.841801Z",
     "shell.execute_reply": "2024-03-13T13:22:57.840753Z"
    },
    "papermill": {
     "duration": 2.059425,
     "end_time": "2024-03-13T13:22:57.844233",
     "exception": false,
     "start_time": "2024-03-13T13:22:55.784808",
     "status": "completed"
    },
    "tags": []
   },
   "outputs": [],
   "source": [
    "import sys\n",
    "sys.path.append('/kaggle/input/kaggle-kl-div')\n",
    "from kaggle_kl_div import score\n",
    "sys.path.append('/kaggle/input/specs-fr-eegs')\n",
    "from hms_data_generator import DataGenerator\n",
    "from spec_eeg import spectrogram_from_eeg"
   ]
  },
  {
   "cell_type": "markdown",
   "id": "b01b50fb",
   "metadata": {
    "papermill": {
     "duration": 0.008263,
     "end_time": "2024-03-13T13:22:57.860177",
     "exception": false,
     "start_time": "2024-03-13T13:22:57.851914",
     "status": "completed"
    },
    "tags": []
   },
   "source": [
    "# Build InceptionV3 network"
   ]
  },
  {
   "cell_type": "code",
   "execution_count": 5,
   "id": "b8798a6b",
   "metadata": {
    "execution": {
     "iopub.execute_input": "2024-03-13T13:22:57.876450Z",
     "iopub.status.busy": "2024-03-13T13:22:57.875883Z",
     "iopub.status.idle": "2024-03-13T13:22:58.138248Z",
     "shell.execute_reply": "2024-03-13T13:22:58.137286Z"
    },
    "papermill": {
     "duration": 0.272752,
     "end_time": "2024-03-13T13:22:58.140264",
     "exception": false,
     "start_time": "2024-03-13T13:22:57.867512",
     "status": "completed"
    },
    "tags": []
   },
   "outputs": [
    {
     "data": {
      "image/png": "[encoded data removed]",
      "text/plain": [
       "<Figure size 1000x400 with 1 Axes>"
      ]
     },
     "metadata": {},
     "output_type": "display_data"
    }
   ],
   "source": [
    "#STEP TYPE\n",
    "LR_START = 1e-4\n",
    "LR_MAX = 1e-3\n",
    "LR_RAMPUP_EPOCHS = 0\n",
    "LR_SUSTAIN_EPOCHS = 1\n",
    "LR_STEP_DECAY = 0.1\n",
    "EVERY = 1\n",
    "EPOCHS = 5\n",
    "\n",
    "def lrfn(epoch):\n",
    "    if epoch < LR_RAMPUP_EPOCHS:\n",
    "        lr = (LR_MAX - LR_START) / LR_RAMPUP_EPOCHS * epoch + LR_START\n",
    "    elif epoch < LR_RAMPUP_EPOCHS + LR_SUSTAIN_EPOCHS:\n",
    "        lr = LR_MAX\n",
    "    else:\n",
    "        lr = LR_MAX * LR_STEP_DECAY**((epoch - LR_RAMPUP_EPOCHS - LR_SUSTAIN_EPOCHS)//EVERY)\n",
    "    return lr\n",
    "\n",
    "rng = [i for i in range(EPOCHS)]\n",
    "y = [lrfn(x) for x in rng]\n",
    "plt.figure(figsize=(10, 4))\n",
    "plt.plot(rng, y, 'o-'); \n",
    "plt.xlabel('epoch',size=14); plt.ylabel('learning rate',size=14)\n",
    "plt.title('Step Training Schedule',size=16); plt.show()\n",
    "\n",
    "LR = tf.keras.callbacks.LearningRateScheduler(lrfn, verbose = True)"
   ]
  },
  {
   "cell_type": "code",
   "execution_count": 6,
   "id": "a5cf5717",
   "metadata": {
    "execution": {
     "iopub.execute_input": "2024-03-13T13:22:58.158161Z",
     "iopub.status.busy": "2024-03-13T13:22:58.157850Z",
     "iopub.status.idle": "2024-03-13T13:22:58.162084Z",
     "shell.execute_reply": "2024-03-13T13:22:58.161114Z"
    },
    "papermill": {
     "duration": 0.01556,
     "end_time": "2024-03-13T13:22:58.164141",
     "exception": false,
     "start_time": "2024-03-13T13:22:58.148581",
     "status": "completed"
    },
    "tags": []
   },
   "outputs": [],
   "source": [
    "#use both Kaggle and eeg spectrograms\n",
    "USE_KAGGLE_SPECTROGRAMS = True\n",
    "USE_EEG_SPECTROGRAMS = True"
   ]
  },
  {
   "cell_type": "code",
   "execution_count": 7,
   "id": "7727852f",
   "metadata": {
    "execution": {
     "iopub.execute_input": "2024-03-13T13:22:58.181686Z",
     "iopub.status.busy": "2024-03-13T13:22:58.181080Z",
     "iopub.status.idle": "2024-03-13T13:22:58.193080Z",
     "shell.execute_reply": "2024-03-13T13:22:58.192197Z"
    },
    "papermill": {
     "duration": 0.022814,
     "end_time": "2024-03-13T13:22:58.194944",
     "exception": false,
     "start_time": "2024-03-13T13:22:58.172130",
     "status": "completed"
    },
    "tags": []
   },
   "outputs": [],
   "source": [
    "def build_model(pretrained_model, WEIGHTS_PATH):\n",
    "    \n",
    "    inp = tf.keras.Input(shape=(128,256,8))\n",
    "    base_model = pretrained_model(include_top=False, weights = None, input_shape=None)\n",
    "    base_model.load_weights(WEIGHTS_PATH)\n",
    "   \n",
    "    # RESHAPE INPUT 128x256x8 => 512x512x3 MONOTONE IMAGE\n",
    "    # KAGGLE SPECTROGRAMS\n",
    "    x1 = [inp[:,:,:,i:i+1] for i in range(4)]\n",
    "    x1 = tf.keras.layers.Concatenate(axis=1)(x1)\n",
    "    # EEG SPECTROGRAMS\n",
    "    x2 = [inp[:,:,:,i+4:i+5] for i in range(4)]\n",
    "    x2 = tf.keras.layers.Concatenate(axis=1)(x2)\n",
    "    # MAKE 512X512X3\n",
    "    if USE_KAGGLE_SPECTROGRAMS & USE_EEG_SPECTROGRAMS:\n",
    "        x = tf.keras.layers.Concatenate(axis=2)([x1,x2])\n",
    "    elif USE_EEG_SPECTROGRAMS: x = x2\n",
    "    else: x = x1\n",
    "    x = tf.keras.layers.Concatenate(axis=3)([x,x,x])\n",
    "    \n",
    "    # OUTPUT\n",
    "    x = base_model(x)\n",
    "    x = tf.keras.layers.GlobalAveragePooling2D()(x)\n",
    "    #Add a few dense layers in between\n",
    "    x = tf.keras.layers.Dense(128,activation='ReLU', dtype='float32')(x)\n",
    "    x = tf.keras.layers.Dense(64,activation='ReLU', dtype='float32')(x)\n",
    "    x = tf.keras.layers.Dense(6,activation='softmax', dtype='float32')(x)\n",
    "        \n",
    "    # COMPILE MODEL\n",
    "    model = tf.keras.Model(inputs=inp, outputs=x)\n",
    "    opt = tf.keras.optimizers.Adam(learning_rate = 1e-3)\n",
    "    loss = tf.keras.losses.KLDivergence()\n",
    "    model.compile(loss=loss, optimizer = opt) \n",
    "        \n",
    "    return model\n"
   ]
  },
  {
   "cell_type": "code",
   "execution_count": 8,
   "id": "ce3bd1d0",
   "metadata": {
    "execution": {
     "iopub.execute_input": "2024-03-13T13:22:58.212240Z",
     "iopub.status.busy": "2024-03-13T13:22:58.211967Z",
     "iopub.status.idle": "2024-03-13T13:22:58.218056Z",
     "shell.execute_reply": "2024-03-13T13:22:58.217187Z"
    },
    "papermill": {
     "duration": 0.017016,
     "end_time": "2024-03-13T13:22:58.219987",
     "exception": false,
     "start_time": "2024-03-13T13:22:58.202971",
     "status": "completed"
    },
    "tags": []
   },
   "outputs": [],
   "source": [
    "def apply_trained_model_fold_weights(model_offcial_name, model_name, imagenet_weight_path, trained_weight_path, fold_weights):\n",
    "    preds = []\n",
    "    model = build_model(model_offcial_name, imagenet_weight_path)\n",
    "\n",
    "    for i in range(5):\n",
    "        print(f'Fold {i+1}')\n",
    "        model.load_weights(f'{trained_weight_path}{model_name}_f{i}.h5')\n",
    "        #each pred is 1x6 matrix\n",
    "        pred = model.predict(test_gen, verbose=1)\n",
    "        #preds is 5x1x6 tensor\n",
    "        preds.append(pred)\n",
    "        \n",
    "    full_pred = np.average(preds, weights = fold_weights, axis = 0)\n",
    "           \n",
    "    return full_pred"
   ]
  },
  {
   "cell_type": "code",
   "execution_count": 9,
   "id": "bd44898f",
   "metadata": {
    "execution": {
     "iopub.execute_input": "2024-03-13T13:22:58.237588Z",
     "iopub.status.busy": "2024-03-13T13:22:58.236948Z",
     "iopub.status.idle": "2024-03-13T13:22:58.249955Z",
     "shell.execute_reply": "2024-03-13T13:22:58.249178Z"
    },
    "papermill": {
     "duration": 0.023946,
     "end_time": "2024-03-13T13:22:58.251929",
     "exception": false,
     "start_time": "2024-03-13T13:22:58.227983",
     "status": "completed"
    },
    "tags": []
   },
   "outputs": [],
   "source": [
    "#Evaluate trained model on trained data\n",
    "from sklearn.model_selection import KFold, GroupKFold\n",
    "import tensorflow.keras.backend as K, gc\n",
    "\n",
    "def apply_trained_model_and_score(model_offcial_name,  imagenet_weight_path, trained_weight_path):\n",
    "    all_oof = []\n",
    "    all_true = []\n",
    "\n",
    "    gkf = GroupKFold(n_splits=5)\n",
    "    for i, (train_index, valid_index) in enumerate(gkf.split(train, train.target, train.patient_id)):  \n",
    "\n",
    "        print('#'*25)\n",
    "        print(f'### Fold {i+1}')\n",
    "\n",
    "        train_gen = DataGenerator(train.iloc[train_index],spectrograms, all_eegs, shuffle=True, batch_size=32, augment=False)\n",
    "        valid_gen = DataGenerator(train.iloc[valid_index], spectrograms, all_eegs,shuffle=False, batch_size=64, mode='valid')\n",
    "\n",
    "        print(f'### train size {len(train_index)}, valid size {len(valid_index)}')\n",
    "        print('#'*25)\n",
    "\n",
    "        K.clear_session()\n",
    "        with strategy.scope():\n",
    "            model = build_model(model_offcial_name, imagenet_weight_path)\n",
    "        if trained_weight_path is None:\n",
    "            model.fit(train_gen, verbose=1,\n",
    "                  validation_data = valid_gen,\n",
    "                    #use cosine type scheduler\n",
    "                  epochs=EPOCHS, callbacks = [LR])\n",
    "            model.save_weights(f'InceptionV3_v{VER}_f{i}.h5')\n",
    "        else:\n",
    "            model.load_weights(f'{trained_weight_path}InceptionV3_v{VER}_f{i}.h5')\n",
    "\n",
    "        oof = model.predict(valid_gen, verbose=1)\n",
    "        all_oof.append(oof)\n",
    "        all_true.append(train.iloc[valid_index][TARGETS].values)\n",
    "\n",
    "        del model, oof\n",
    "        gc.collect()\n",
    "\n",
    "    all_oof = np.concatenate(all_oof)\n",
    "    all_true = np.concatenate(all_true)\n",
    "    \n",
    "    #calculate KL-Div score for out-of-fold prediction\n",
    "    oof = pd.DataFrame(all_oof.copy())\n",
    "    oof['id'] = np.arange(len(oof))\n",
    "    true = pd.DataFrame(all_true.copy())\n",
    "    true['id'] = np.arange(len(true))\n",
    "    cv = score(solution=true, submission=oof, row_id_column_name='id')\n",
    "    \n",
    "    return all_oof, all_true, cv"
   ]
  },
  {
   "cell_type": "code",
   "execution_count": 10,
   "id": "dbeaf5e3",
   "metadata": {
    "execution": {
     "iopub.execute_input": "2024-03-13T13:22:58.268928Z",
     "iopub.status.busy": "2024-03-13T13:22:58.268628Z",
     "iopub.status.idle": "2024-03-13T13:22:58.273578Z",
     "shell.execute_reply": "2024-03-13T13:22:58.272823Z"
    },
    "papermill": {
     "duration": 0.015705,
     "end_time": "2024-03-13T13:22:58.275424",
     "exception": false,
     "start_time": "2024-03-13T13:22:58.259719",
     "status": "completed"
    },
    "tags": []
   },
   "outputs": [],
   "source": [
    "from tensorflow.keras.applications import InceptionV3\n",
    "#TRAINED_InceptionV3_FROM = '/kaggle/input/hms-mobilenetv2-trained-weights/'\n",
    "TRAINED_InceptionV3_FROM = None\n",
    "WEIGHTS_PATH_Inc  = '/kaggle/input/pretrained-imagenet-weights-for-various-networks/inception_v3_weights_tf_dim_ordering_tf_kernels_notop.h5'"
   ]
  },
  {
   "cell_type": "code",
   "execution_count": 11,
   "id": "a6cb0aea",
   "metadata": {
    "execution": {
     "iopub.execute_input": "2024-03-13T13:22:58.292372Z",
     "iopub.status.busy": "2024-03-13T13:22:58.292128Z",
     "iopub.status.idle": "2024-03-13T15:32:47.184603Z",
     "shell.execute_reply": "2024-03-13T15:32:47.183739Z"
    },
    "papermill": {
     "duration": 7788.90354,
     "end_time": "2024-03-13T15:32:47.186944",
     "exception": false,
     "start_time": "2024-03-13T13:22:58.283404",
     "status": "completed"
    },
    "tags": []
   },
   "outputs": [
    {
     "name": "stdout",
     "output_type": "stream",
     "text": [
      "#########################\n",
      "### Fold 1\n",
      "### train size 13671, valid size 3418\n",
      "#########################\n",
      "\n",
      "Epoch 1: LearningRateScheduler setting learning rate to 0.001.\n",
      "Epoch 1/5\n"
     ]
    },
    {
     "name": "stderr",
     "output_type": "stream",
     "text": [
      "WARNING: All log messages before absl::InitializeLog() is called are written to STDERR\n",
      "I0000 00:00:1710336209.303863      68 device_compiler.h:186] Compiled cluster using XLA!  This line is logged at most once for the lifetime of the process.\n"
     ]
    },
    {
     "name": "stdout",
     "output_type": "stream",
     "text": [
      "428/428 [==============================] - 373s 744ms/step - loss: 0.8645 - val_loss: 2.3104 - lr: 0.0010\n",
      "\n",
      "Epoch 2: LearningRateScheduler setting learning rate to 0.001.\n",
      "Epoch 2/5\n",
      "428/428 [==============================] - 298s 696ms/step - loss: 0.6852 - val_loss: 1.1251 - lr: 0.0010\n",
      "\n",
      "Epoch 3: LearningRateScheduler setting learning rate to 0.0001.\n",
      "Epoch 3/5\n",
      "428/428 [==============================] - 297s 694ms/step - loss: 0.5376 - val_loss: 0.7409 - lr: 1.0000e-04\n",
      "\n",
      "Epoch 4: LearningRateScheduler setting learning rate to 1.0000000000000003e-05.\n",
      "Epoch 4/5\n",
      "428/428 [==============================] - 297s 693ms/step - loss: 0.4946 - val_loss: 0.7164 - lr: 1.0000e-05\n",
      "\n",
      "Epoch 5: LearningRateScheduler setting learning rate to 1.0000000000000002e-06.\n",
      "Epoch 5/5\n",
      "428/428 [==============================] - 297s 694ms/step - loss: 0.4850 - val_loss: 0.7163 - lr: 1.0000e-06\n",
      "54/54 [==============================] - 22s 377ms/step\n",
      "#########################\n",
      "### Fold 2\n",
      "### train size 13671, valid size 3418\n",
      "#########################\n",
      "\n",
      "Epoch 1: LearningRateScheduler setting learning rate to 0.001.\n",
      "Epoch 1/5\n",
      "428/428 [==============================] - 327s 698ms/step - loss: 0.8464 - val_loss: 1.0395 - lr: 0.0010\n",
      "\n",
      "Epoch 2: LearningRateScheduler setting learning rate to 0.001.\n",
      "Epoch 2/5\n",
      "428/428 [==============================] - 297s 694ms/step - loss: 0.6572 - val_loss: 0.8382 - lr: 0.0010\n",
      "\n",
      "Epoch 3: LearningRateScheduler setting learning rate to 0.0001.\n",
      "Epoch 3/5\n",
      "428/428 [==============================] - 297s 694ms/step - loss: 0.5405 - val_loss: 0.6565 - lr: 1.0000e-04\n",
      "\n",
      "Epoch 4: LearningRateScheduler setting learning rate to 1.0000000000000003e-05.\n",
      "Epoch 4/5\n",
      "428/428 [==============================] - 297s 694ms/step - loss: 0.4969 - val_loss: 0.6349 - lr: 1.0000e-05\n",
      "\n",
      "Epoch 5: LearningRateScheduler setting learning rate to 1.0000000000000002e-06.\n",
      "Epoch 5/5\n",
      "428/428 [==============================] - 296s 692ms/step - loss: 0.4946 - val_loss: 0.6348 - lr: 1.0000e-06\n",
      "54/54 [==============================] - 22s 385ms/step\n",
      "#########################\n",
      "### Fold 3\n",
      "### train size 13671, valid size 3418\n",
      "#########################\n",
      "\n",
      "Epoch 1: LearningRateScheduler setting learning rate to 0.001.\n",
      "Epoch 1/5\n",
      "428/428 [==============================] - 326s 696ms/step - loss: 0.8450 - val_loss: 1.5839 - lr: 0.0010\n",
      "\n",
      "Epoch 2: LearningRateScheduler setting learning rate to 0.001.\n",
      "Epoch 2/5\n",
      "428/428 [==============================] - 297s 694ms/step - loss: 0.6638 - val_loss: 1.1973 - lr: 0.0010\n",
      "\n",
      "Epoch 3: LearningRateScheduler setting learning rate to 0.0001.\n",
      "Epoch 3/5\n",
      "428/428 [==============================] - 298s 697ms/step - loss: 0.5318 - val_loss: 0.5873 - lr: 1.0000e-04\n",
      "\n",
      "Epoch 4: LearningRateScheduler setting learning rate to 1.0000000000000003e-05.\n",
      "Epoch 4/5\n",
      "428/428 [==============================] - 298s 696ms/step - loss: 0.4827 - val_loss: 0.5777 - lr: 1.0000e-05\n",
      "\n",
      "Epoch 5: LearningRateScheduler setting learning rate to 1.0000000000000002e-06.\n",
      "Epoch 5/5\n",
      "428/428 [==============================] - 297s 694ms/step - loss: 0.4718 - val_loss: 0.5761 - lr: 1.0000e-06\n",
      "54/54 [==============================] - 23s 391ms/step\n",
      "#########################\n",
      "### Fold 4\n",
      "### train size 13671, valid size 3418\n",
      "#########################\n",
      "\n",
      "Epoch 1: LearningRateScheduler setting learning rate to 0.001.\n",
      "Epoch 1/5\n",
      "428/428 [==============================] - 327s 697ms/step - loss: 0.8870 - val_loss: 2.2528 - lr: 0.0010\n",
      "\n",
      "Epoch 2: LearningRateScheduler setting learning rate to 0.001.\n",
      "Epoch 2/5\n",
      "428/428 [==============================] - 297s 694ms/step - loss: 0.7023 - val_loss: 1.4900 - lr: 0.0010\n",
      "\n",
      "Epoch 3: LearningRateScheduler setting learning rate to 0.0001.\n",
      "Epoch 3/5\n",
      "428/428 [==============================] - 297s 693ms/step - loss: 0.5545 - val_loss: 0.6801 - lr: 1.0000e-04\n",
      "\n",
      "Epoch 4: LearningRateScheduler setting learning rate to 1.0000000000000003e-05.\n",
      "Epoch 4/5\n",
      "428/428 [==============================] - 297s 694ms/step - loss: 0.5029 - val_loss: 0.6798 - lr: 1.0000e-05\n",
      "\n",
      "Epoch 5: LearningRateScheduler setting learning rate to 1.0000000000000002e-06.\n",
      "Epoch 5/5\n",
      "428/428 [==============================] - 297s 694ms/step - loss: 0.4936 - val_loss: 0.6730 - lr: 1.0000e-06\n",
      "54/54 [==============================] - 23s 396ms/step\n",
      "#########################\n",
      "### Fold 5\n",
      "### train size 13672, valid size 3417\n",
      "#########################\n",
      "\n",
      "Epoch 1: LearningRateScheduler setting learning rate to 0.001.\n",
      "Epoch 1/5\n",
      "428/428 [==============================] - 341s 724ms/step - loss: 0.9593 - val_loss: 2.5361 - lr: 0.0010\n",
      "\n",
      "Epoch 2: LearningRateScheduler setting learning rate to 0.001.\n",
      "Epoch 2/5\n",
      "428/428 [==============================] - 297s 693ms/step - loss: 0.7610 - val_loss: 1.1666 - lr: 0.0010\n",
      "\n",
      "Epoch 3: LearningRateScheduler setting learning rate to 0.0001.\n",
      "Epoch 3/5\n",
      "428/428 [==============================] - 297s 693ms/step - loss: 0.6236 - val_loss: 0.8096 - lr: 1.0000e-04\n",
      "\n",
      "Epoch 4: LearningRateScheduler setting learning rate to 1.0000000000000003e-05.\n",
      "Epoch 4/5\n",
      "428/428 [==============================] - 297s 694ms/step - loss: 0.5796 - val_loss: 0.7584 - lr: 1.0000e-05\n",
      "\n",
      "Epoch 5: LearningRateScheduler setting learning rate to 1.0000000000000002e-06.\n",
      "Epoch 5/5\n",
      "428/428 [==============================] - 298s 696ms/step - loss: 0.5706 - val_loss: 0.7603 - lr: 1.0000e-06\n",
      "54/54 [==============================] - 22s 383ms/step\n"
     ]
    }
   ],
   "source": [
    "oof_I, true_I, cvI = apply_trained_model_and_score(InceptionV3,  WEIGHTS_PATH_Inc, TRAINED_InceptionV3_FROM)"
   ]
  },
  {
   "cell_type": "code",
   "execution_count": 12,
   "id": "3bc8781f",
   "metadata": {
    "execution": {
     "iopub.execute_input": "2024-03-13T15:32:48.954233Z",
     "iopub.status.busy": "2024-03-13T15:32:48.953628Z",
     "iopub.status.idle": "2024-03-13T15:32:48.959466Z",
     "shell.execute_reply": "2024-03-13T15:32:48.958593Z"
    },
    "papermill": {
     "duration": 0.89732,
     "end_time": "2024-03-13T15:32:48.961568",
     "exception": false,
     "start_time": "2024-03-13T15:32:48.064248",
     "status": "completed"
    },
    "tags": []
   },
   "outputs": [
    {
     "data": {
      "text/plain": [
       "0.6721237691432267"
      ]
     },
     "execution_count": 12,
     "metadata": {},
     "output_type": "execute_result"
    }
   ],
   "source": [
    "cvI"
   ]
  },
  {
   "cell_type": "markdown",
   "id": "605a6089",
   "metadata": {
    "papermill": {
     "duration": 0.944924,
     "end_time": "2024-03-13T15:32:50.812040",
     "exception": false,
     "start_time": "2024-03-13T15:32:49.867116",
     "status": "completed"
    },
    "tags": []
   },
   "source": [
    "# Load test data"
   ]
  },
  {
   "cell_type": "code",
   "execution_count": 13,
   "id": "3dfab86b",
   "metadata": {
    "execution": {
     "iopub.execute_input": "2024-03-13T15:32:52.683023Z",
     "iopub.status.busy": "2024-03-13T15:32:52.682288Z",
     "iopub.status.idle": "2024-03-13T15:32:52.686751Z",
     "shell.execute_reply": "2024-03-13T15:32:52.685806Z"
    },
    "papermill": {
     "duration": 0.993401,
     "end_time": "2024-03-13T15:32:52.688736",
     "exception": false,
     "start_time": "2024-03-13T15:32:51.695335",
     "status": "completed"
    },
    "tags": []
   },
   "outputs": [],
   "source": [
    "#test = pd.read_csv('/kaggle/input/hms-harmful-brain-activity-classification/test.csv')"
   ]
  },
  {
   "cell_type": "code",
   "execution_count": 14,
   "id": "23092443",
   "metadata": {
    "execution": {
     "iopub.execute_input": "2024-03-13T15:32:54.474662Z",
     "iopub.status.busy": "2024-03-13T15:32:54.474269Z",
     "iopub.status.idle": "2024-03-13T15:32:54.478946Z",
     "shell.execute_reply": "2024-03-13T15:32:54.478037Z"
    },
    "papermill": {
     "duration": 0.910117,
     "end_time": "2024-03-13T15:32:54.480800",
     "exception": false,
     "start_time": "2024-03-13T15:32:53.570683",
     "status": "completed"
    },
    "tags": []
   },
   "outputs": [],
   "source": [
    "# READ ALL SPECTROGRAMS\n",
    "#PATH2 = '/kaggle/input/hms-harmful-brain-activity-classification/test_spectrograms/'\n",
    "#files2 = os.listdir(PATH2)\n",
    "#print(f'There are {len(files2)} test spectrogram parquets')\n",
    "    \n",
    "#spectrograms2 = {}\n",
    "#for i,f in enumerate(files2):\n",
    "#    if i%100==0: print(i,', ',end='')\n",
    "#    tmp = pd.read_parquet(f'{PATH2}{f}')\n",
    "#    name = int(f.split('.')[0])\n",
    "#    spectrograms2[name] = tmp.iloc[:,1:].values\n",
    "    \n",
    "# RENAME FOR DATALOADER\n",
    "#test = test.rename({'spectrogram_id':'spec_id'},axis=1)"
   ]
  },
  {
   "cell_type": "code",
   "execution_count": 15,
   "id": "2c4e2979",
   "metadata": {
    "execution": {
     "iopub.execute_input": "2024-03-13T15:32:56.300751Z",
     "iopub.status.busy": "2024-03-13T15:32:56.300280Z",
     "iopub.status.idle": "2024-03-13T15:32:56.304969Z",
     "shell.execute_reply": "2024-03-13T15:32:56.303932Z"
    },
    "papermill": {
     "duration": 0.946093,
     "end_time": "2024-03-13T15:32:56.306944",
     "exception": false,
     "start_time": "2024-03-13T15:32:55.360851",
     "status": "completed"
    },
    "tags": []
   },
   "outputs": [],
   "source": [
    "# READ ALL EEG SPECTROGRAMS\n",
    "#PATH2 = '/kaggle/input/hms-harmful-brain-activity-classification/test_eegs/'\n",
    "#DISPLAY = 1\n",
    "#EEG_IDS2 = test.eeg_id.unique()\n",
    "#all_eegs2 = {}\n",
    "\n",
    "#print('Converting Test EEG to Spectrograms...'); print()\n",
    "#for i,eeg_id in enumerate(EEG_IDS2):        \n",
    "    # CREATE SPECTROGRAM FROM EEG PARQUET\n",
    "  #  img = spectrogram_from_eeg(f'{PATH2}{eeg_id}.parquet', eeg_id, i<DISPLAY)\n",
    "  #  all_eegs2[eeg_id] = img"
   ]
  },
  {
   "cell_type": "code",
   "execution_count": 16,
   "id": "6b330c0a",
   "metadata": {
    "execution": {
     "iopub.execute_input": "2024-03-13T15:32:58.138925Z",
     "iopub.status.busy": "2024-03-13T15:32:58.138251Z",
     "iopub.status.idle": "2024-03-13T15:32:58.142419Z",
     "shell.execute_reply": "2024-03-13T15:32:58.141539Z"
    },
    "papermill": {
     "duration": 0.958244,
     "end_time": "2024-03-13T15:32:58.144373",
     "exception": false,
     "start_time": "2024-03-13T15:32:57.186129",
     "status": "completed"
    },
    "tags": []
   },
   "outputs": [],
   "source": [
    "#Load test data in the final format\n",
    "#test_gen = DataGenerator(test, spectrograms2, all_eegs2, shuffle=False, batch_size=64, mode='test',)"
   ]
  },
  {
   "cell_type": "code",
   "execution_count": 17,
   "id": "98d9bb95",
   "metadata": {
    "execution": {
     "iopub.execute_input": "2024-03-13T15:32:59.929595Z",
     "iopub.status.busy": "2024-03-13T15:32:59.929203Z",
     "iopub.status.idle": "2024-03-13T15:32:59.933443Z",
     "shell.execute_reply": "2024-03-13T15:32:59.932572Z"
    },
    "papermill": {
     "duration": 0.909646,
     "end_time": "2024-03-13T15:32:59.935386",
     "exception": false,
     "start_time": "2024-03-13T15:32:59.025740",
     "status": "completed"
    },
    "tags": []
   },
   "outputs": [],
   "source": [
    "# Determine fold weights\n",
    "# Fold 1: val_loss: 0.6436\n",
    "# Fold 2:  val_loss 0.5849\n",
    "# Fold 3: val_loss: 0.5629\n",
    "# Fold 4: val_loss: 0.6413\n",
    "# Fold 5: val_loss: 0.6810\n",
    "\n",
    "#fold_weight = [0.15, 0.25, 0.3, 0.15, 0.15]\n",
    "#np.sum(fold_weight)"
   ]
  },
  {
   "cell_type": "code",
   "execution_count": 18,
   "id": "34167d31",
   "metadata": {
    "execution": {
     "iopub.execute_input": "2024-03-13T15:33:01.770094Z",
     "iopub.status.busy": "2024-03-13T15:33:01.769361Z",
     "iopub.status.idle": "2024-03-13T15:33:01.773517Z",
     "shell.execute_reply": "2024-03-13T15:33:01.772596Z"
    },
    "papermill": {
     "duration": 0.89304,
     "end_time": "2024-03-13T15:33:01.775485",
     "exception": false,
     "start_time": "2024-03-13T15:33:00.882445",
     "status": "completed"
    },
    "tags": []
   },
   "outputs": [],
   "source": [
    "#pred_M4 = apply_trained_model_fold_weights(InceptionV3, Inc_name, WEIGHTS_PATH_Inc, TRAINED_InceptionV3_FROM, fold_weight)"
   ]
  },
  {
   "cell_type": "code",
   "execution_count": 19,
   "id": "474f43c5",
   "metadata": {
    "execution": {
     "iopub.execute_input": "2024-03-13T15:33:03.615242Z",
     "iopub.status.busy": "2024-03-13T15:33:03.614875Z",
     "iopub.status.idle": "2024-03-13T15:33:03.618955Z",
     "shell.execute_reply": "2024-03-13T15:33:03.618078Z"
    },
    "papermill": {
     "duration": 0.960734,
     "end_time": "2024-03-13T15:33:03.620841",
     "exception": false,
     "start_time": "2024-03-13T15:33:02.660107",
     "status": "completed"
    },
    "tags": []
   },
   "outputs": [],
   "source": [
    "#np.sum(pred_M4)"
   ]
  },
  {
   "cell_type": "markdown",
   "id": "f378c980",
   "metadata": {
    "papermill": {
     "duration": 0.880034,
     "end_time": "2024-03-13T15:33:05.373651",
     "exception": false,
     "start_time": "2024-03-13T15:33:04.493617",
     "status": "completed"
    },
    "tags": []
   },
   "source": [
    "# Submission"
   ]
  },
  {
   "cell_type": "code",
   "execution_count": 20,
   "id": "d393c82c",
   "metadata": {
    "execution": {
     "iopub.execute_input": "2024-03-13T15:33:07.191294Z",
     "iopub.status.busy": "2024-03-13T15:33:07.190923Z",
     "iopub.status.idle": "2024-03-13T15:33:07.195303Z",
     "shell.execute_reply": "2024-03-13T15:33:07.194420Z"
    },
    "papermill": {
     "duration": 0.881805,
     "end_time": "2024-03-13T15:33:07.197231",
     "exception": false,
     "start_time": "2024-03-13T15:33:06.315426",
     "status": "completed"
    },
    "tags": []
   },
   "outputs": [],
   "source": [
    "#submission = pd.read_csv(\"/kaggle/input/hms-harmful-brain-activity-classification/sample_submission.csv\")\n",
    "#labels = ['seizure', 'lpd', 'gpd', 'lrda', 'grda', 'other']\n",
    "\n",
    "# Assign model predictions to respective columns in the submission DataFrame\n",
    "#for i in range(len(labels)):\n",
    "#    submission[f'{labels[i]}_vote'] = pred_M4[:, i]\n",
    "# Save the updated DataFrame as the final submission file\n",
    "#submission.to_csv(\"submission.csv\", index=None)"
   ]
  },
  {
   "cell_type": "code",
   "execution_count": 21,
   "id": "100830dc",
   "metadata": {
    "execution": {
     "iopub.execute_input": "2024-03-13T15:33:09.029566Z",
     "iopub.status.busy": "2024-03-13T15:33:09.029167Z",
     "iopub.status.idle": "2024-03-13T15:33:09.033265Z",
     "shell.execute_reply": "2024-03-13T15:33:09.032405Z"
    },
    "papermill": {
     "duration": 0.948697,
     "end_time": "2024-03-13T15:33:09.035247",
     "exception": false,
     "start_time": "2024-03-13T15:33:08.086550",
     "status": "completed"
    },
    "tags": []
   },
   "outputs": [],
   "source": [
    "# SANITY CHECK TO CONFIRM PREDICTIONS SUM TO ONE\n",
    "#submission.iloc[:,-6:].sum(axis=1)"
   ]
  }
 ],
 "metadata": {
  "kaggle": {
   "accelerator": "gpu",
   "dataSources": [
    {
     "databundleVersionId": 7469972,
     "sourceId": 59093,
     "sourceType": "competition"
    },
    {
     "databundleVersionId": 7539394,
     "datasetId": 4334995,
     "sourceId": 7447509,
     "sourceType": "datasetVersion"
    },
    {
     "databundleVersionId": 7483780,
     "datasetId": 4297782,
     "sourceId": 7392775,
     "sourceType": "datasetVersion"
    },
    {
     "databundleVersionId": 7936382,
     "datasetId": 4445265,
     "sourceId": 7832581,
     "sourceType": "datasetVersion"
    },
    {
     "databundleVersionId": 7483738,
     "datasetId": 4297749,
     "sourceId": 7392733,
     "sourceType": "datasetVersion"
    },
    {
     "databundleVersionId": 7731962,
     "datasetId": 4412494,
     "sourceId": 7635645,
     "sourceType": "datasetVersion"
    },
    {
     "databundleVersionId": 7802269,
     "datasetId": 4411632,
     "sourceId": 7703683,
     "sourceType": "datasetVersion"
    }
   ],
   "dockerImageVersionId": 30648,
   "isGpuEnabled": true,
   "isInternetEnabled": false,
   "language": "python",
   "sourceType": "notebook"
  },
  "kernelspec": {
   "display_name": "Python 3",
   "language": "python",
   "name": "python3"
  },
  "language_info": {
   "codemirror_mode": {
    "name": "ipython",
    "version": 3
   },
   "file_extension": ".py",
   "mimetype": "text/x-python",
   "name": "python",
   "nbconvert_exporter": "python",
   "pygments_lexer": "ipython3",
   "version": "3.10.13"
  },
  "papermill": {
   "default_parameters": {},
   "duration": 7982.040972,
   "end_time": "2024-03-13T15:33:14.183481",
   "environment_variables": {},
   "exception": null,
   "input_path": "__notebook__.ipynb",
   "output_path": "__notebook__.ipynb",
   "parameters": {},
   "start_time": "2024-03-13T13:20:12.142509",
   "version": "2.5.0"
  }
 },
 "nbformat": 4,
 "nbformat_minor": 5
}
